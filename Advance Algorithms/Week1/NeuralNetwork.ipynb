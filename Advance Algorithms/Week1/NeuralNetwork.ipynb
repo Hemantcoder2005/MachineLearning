{
 "cells": [
  {
   "cell_type": "code",
   "execution_count": 1,
   "metadata": {},
   "outputs": [],
   "source": [
    "import numpy as np\n",
    "import time"
   ]
  },
  {
   "cell_type": "code",
   "execution_count": 2,
   "metadata": {},
   "outputs": [],
   "source": [
    "def sigmoid(z):\n",
    "    return 1/(1+np.exp(-z))"
   ]
  },
  {
   "cell_type": "code",
   "execution_count": 15,
   "metadata": {},
   "outputs": [],
   "source": [
    "def dense(a_in,w,b):\n",
    "    neurons=len(b)\n",
    "    a_out=np.zeros(neurons)\n",
    "    for neuron in range(neurons):\n",
    "        z=np.dot(a_in,w[:,neuron])+b[neuron]\n",
    "        a_out[neuron]=(sigmoid(z))\n",
    "    return a_out"
   ]
  },
  {
   "cell_type": "code",
   "execution_count": 16,
   "metadata": {},
   "outputs": [],
   "source": [
    "def denseVectorization(A_in,W,b):\n",
    "    z=np.matmul(A_in,W)+b\n",
    "    return sigmoid(z)"
   ]
  },
  {
   "cell_type": "code",
   "execution_count": 17,
   "metadata": {},
   "outputs": [],
   "source": [
    "# Test\n",
    "x=np.array([200,17])\n",
    "W=np.array([[1,-3,5],[-2,4,-6]])\n",
    "b=np.array([-1,1,2])"
   ]
  },
  {
   "cell_type": "code",
   "execution_count": 18,
   "metadata": {},
   "outputs": [
    {
     "name": "stdout",
     "output_type": "stream",
     "text": [
      "0.00038552284240722656\n"
     ]
    }
   ],
   "source": [
    "startTime2=time.time()\n",
    "a_out2=denseVectorization(x,W,b)\n",
    "endTime2=time.time()\n",
    "diff2=endTime2-startTime2\n",
    "print(diff2)"
   ]
  },
  {
   "cell_type": "code",
   "execution_count": 19,
   "metadata": {},
   "outputs": [
    {
     "name": "stdout",
     "output_type": "stream",
     "text": [
      "0.0\n",
      "Without Vectorization code takes =  0.0\n"
     ]
    }
   ],
   "source": [
    "startTime1=time.time()\n",
    "a_out1=dense(x,W,b)\n",
    "endTime1=time.time()\n",
    "diff1=endTime1-startTime1\n",
    "print(diff1)    \n",
    "print(\"Without Vectorization code takes = \",diff1)"
   ]
  },
  {
   "cell_type": "code",
   "execution_count": 14,
   "metadata": {},
   "outputs": [
    {
     "data": {
      "text/plain": [
       "array([1.00000000e+000, 2.45261912e-231, 1.00000000e+000])"
      ]
     },
     "execution_count": 14,
     "metadata": {},
     "output_type": "execute_result"
    }
   ],
   "source": [
    "a_out2"
   ]
  },
  {
   "cell_type": "code",
   "execution_count": null,
   "metadata": {},
   "outputs": [],
   "source": []
  }
 ],
 "metadata": {
  "kernelspec": {
   "display_name": "MachineLearning",
   "language": "python",
   "name": "python3"
  },
  "language_info": {
   "codemirror_mode": {
    "name": "ipython",
    "version": 3
   },
   "file_extension": ".py",
   "mimetype": "text/x-python",
   "name": "python",
   "nbconvert_exporter": "python",
   "pygments_lexer": "ipython3",
   "version": "3.10.14"
  }
 },
 "nbformat": 4,
 "nbformat_minor": 2
}

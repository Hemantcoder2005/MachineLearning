{
 "cells": [
  {
   "cell_type": "code",
   "execution_count": 86,
   "metadata": {},
   "outputs": [],
   "source": [
    "# importing Modules\n",
    "import tensorflow as tf\n",
    "from tensorflow.keras.datasets import mnist\n",
    "from tensorflow.keras.models import Sequential\n",
    "from tensorflow.keras.optimizers import Adam\n",
    "from tensorflow.keras.layers import Dense\n",
    "from tensorflow.keras.losses import SparseCategoricalCrossentropy\n",
    "import numpy as np"
   ]
  },
  {
   "cell_type": "markdown",
   "metadata": {},
   "source": [
    "# Loading DataSet\n",
    "- We have MNIST dataSet In which we have 70000 images of 28*28\n",
    "- Splited 60,000 in train and 10,000 test\n",
    "- Reshapping it to 784 single array for Neural Layer Input layer"
   ]
  },
  {
   "cell_type": "code",
   "execution_count": 51,
   "metadata": {},
   "outputs": [],
   "source": [
    "(X_train, y_train), (X_test, y_test) = mnist.load_data()\n",
    "X_train = np.array(X_train).reshape(60000,784)\n",
    "y_train = np.array(y_train)\n",
    "X_test = np.array(X_test).reshape(10000,784)\n",
    "y_test = np.array(y_test)"
   ]
  },
  {
   "cell_type": "markdown",
   "metadata": {},
   "source": [
    "# Model\n",
    " Having 3 Neural Layer\n",
    " - 0th layer is input layer for inputting 784 inputs (Not a Neural Layer)\n",
    " - 1st layer 28 neurons in this layer having activation function relu\n",
    " - 2nd layer 14 neurons in this layer having activation function relu\n",
    " - 3rd layer 10 neurons in this layer having activation function linear (we can use softmax too) giving 0 to 9 digit recognition"
   ]
  },
  {
   "cell_type": "code",
   "execution_count": 53,
   "metadata": {},
   "outputs": [],
   "source": [
    "# model\n",
    "tf.random.set_seed(1234)\n",
    "model = Sequential(\n",
    "    [\n",
    "        tf.keras.Input(shape=(784,)),\n",
    "        Dense(28,activation = \"relu\",name = \"layer1\"),\n",
    "        Dense(14,activation = \"relu\",name = \"layer2\"),\n",
    "        Dense(10,activation = \"linear\",name = \"layer3\")\n",
    "    ]\n",
    ")"
   ]
  },
  {
   "cell_type": "markdown",
   "metadata": {},
   "source": [
    "# Compiling\n",
    "- optimizer setting to Adams for self learning learning rate.\n",
    "- Loss setting it to SparseCategoricalCrossentropy for 0 to 9 digits"
   ]
  },
  {
   "cell_type": "code",
   "execution_count": 54,
   "metadata": {},
   "outputs": [],
   "source": [
    "model.compile(\n",
    "    optimizer = Adam(learning_rate=0.001),\n",
    "    loss = SparseCategoricalCrossentropy(from_logits=True)\n",
    ")"
   ]
  },
  {
   "cell_type": "markdown",
   "metadata": {},
   "source": [
    "# Training\n",
    "Training our model with epochs = 100"
   ]
  },
  {
   "cell_type": "code",
   "execution_count": 58,
   "metadata": {},
   "outputs": [
    {
     "name": "stdout",
     "output_type": "stream",
     "text": [
      "Epoch 1/100\n",
      "1875/1875 [==============================] - 2s 1ms/step - loss: 0.1544\n",
      "Epoch 2/100\n",
      "1875/1875 [==============================] - 2s 1ms/step - loss: 0.1505\n",
      "Epoch 3/100\n",
      "1875/1875 [==============================] - 2s 1ms/step - loss: 0.1475\n",
      "Epoch 4/100\n",
      "1875/1875 [==============================] - 2s 1ms/step - loss: 0.1476\n",
      "Epoch 5/100\n",
      "1875/1875 [==============================] - 2s 1ms/step - loss: 0.1429\n",
      "Epoch 6/100\n",
      "1875/1875 [==============================] - 2s 1ms/step - loss: 0.1434\n",
      "Epoch 7/100\n",
      "1875/1875 [==============================] - 2s 1ms/step - loss: 0.1434\n",
      "Epoch 8/100\n",
      "1875/1875 [==============================] - 2s 1ms/step - loss: 0.1387\n",
      "Epoch 9/100\n",
      "1875/1875 [==============================] - 2s 1ms/step - loss: 0.1416\n",
      "Epoch 10/100\n",
      "1875/1875 [==============================] - 2s 1ms/step - loss: 0.1407\n",
      "Epoch 11/100\n",
      "1875/1875 [==============================] - 2s 1ms/step - loss: 0.1379\n",
      "Epoch 12/100\n",
      "1875/1875 [==============================] - 2s 1ms/step - loss: 0.1348\n",
      "Epoch 13/100\n",
      "1875/1875 [==============================] - 2s 1ms/step - loss: 0.1357\n",
      "Epoch 14/100\n",
      "1875/1875 [==============================] - 2s 1ms/step - loss: 0.1299\n",
      "Epoch 15/100\n",
      "1875/1875 [==============================] - 2s 1ms/step - loss: 0.1391\n",
      "Epoch 16/100\n",
      "1875/1875 [==============================] - 2s 1ms/step - loss: 0.1308\n",
      "Epoch 17/100\n",
      "1875/1875 [==============================] - 2s 1ms/step - loss: 0.1302\n",
      "Epoch 18/100\n",
      "1875/1875 [==============================] - 2s 1ms/step - loss: 0.1294\n",
      "Epoch 19/100\n",
      "1875/1875 [==============================] - 3s 2ms/step - loss: 0.1312\n",
      "Epoch 20/100\n",
      "1875/1875 [==============================] - 2s 1ms/step - loss: 0.1284\n",
      "Epoch 21/100\n",
      "1875/1875 [==============================] - 2s 1ms/step - loss: 0.1270\n",
      "Epoch 22/100\n",
      "1875/1875 [==============================] - 2s 1ms/step - loss: 0.1234\n",
      "Epoch 23/100\n",
      "1875/1875 [==============================] - 2s 1ms/step - loss: 0.1239\n",
      "Epoch 24/100\n",
      "1875/1875 [==============================] - 2s 1ms/step - loss: 0.1201\n",
      "Epoch 25/100\n",
      "1875/1875 [==============================] - 2s 1ms/step - loss: 0.1272\n",
      "Epoch 26/100\n",
      "1875/1875 [==============================] - 2s 1ms/step - loss: 0.1181\n",
      "Epoch 27/100\n",
      "1875/1875 [==============================] - 2s 1ms/step - loss: 0.1210\n",
      "Epoch 28/100\n",
      "1875/1875 [==============================] - 2s 1ms/step - loss: 0.1210\n",
      "Epoch 29/100\n",
      "1875/1875 [==============================] - 2s 1ms/step - loss: 0.1177\n",
      "Epoch 30/100\n",
      "1875/1875 [==============================] - 2s 1ms/step - loss: 0.1149\n",
      "Epoch 31/100\n",
      "1875/1875 [==============================] - 2s 1ms/step - loss: 0.1132\n",
      "Epoch 32/100\n",
      "1875/1875 [==============================] - 2s 1ms/step - loss: 0.1167\n",
      "Epoch 33/100\n",
      "1875/1875 [==============================] - 2s 1ms/step - loss: 0.1124\n",
      "Epoch 34/100\n",
      "1875/1875 [==============================] - 2s 1ms/step - loss: 0.1141\n",
      "Epoch 35/100\n",
      "1875/1875 [==============================] - 2s 1ms/step - loss: 0.1146\n",
      "Epoch 36/100\n",
      "1875/1875 [==============================] - 2s 1ms/step - loss: 0.1129\n",
      "Epoch 37/100\n",
      "1875/1875 [==============================] - 2s 1ms/step - loss: 0.1079\n",
      "Epoch 38/100\n",
      "1875/1875 [==============================] - 2s 1ms/step - loss: 0.1173\n",
      "Epoch 39/100\n",
      "1875/1875 [==============================] - 2s 1ms/step - loss: 0.1088\n",
      "Epoch 40/100\n",
      "1875/1875 [==============================] - 2s 1ms/step - loss: 0.1086\n",
      "Epoch 41/100\n",
      "1875/1875 [==============================] - 2s 1ms/step - loss: 0.1085\n",
      "Epoch 42/100\n",
      "1875/1875 [==============================] - 2s 1ms/step - loss: 0.1026\n",
      "Epoch 43/100\n",
      "1875/1875 [==============================] - 2s 1ms/step - loss: 0.1060\n",
      "Epoch 44/100\n",
      "1875/1875 [==============================] - 2s 1ms/step - loss: 0.1072\n",
      "Epoch 45/100\n",
      "1875/1875 [==============================] - 2s 1ms/step - loss: 0.1036\n",
      "Epoch 46/100\n",
      "1875/1875 [==============================] - 2s 1ms/step - loss: 0.1022\n",
      "Epoch 47/100\n",
      "1875/1875 [==============================] - 2s 1ms/step - loss: 0.1113\n",
      "Epoch 48/100\n",
      "1875/1875 [==============================] - 2s 1ms/step - loss: 0.1048\n",
      "Epoch 49/100\n",
      "1875/1875 [==============================] - 2s 1ms/step - loss: 0.1052\n",
      "Epoch 50/100\n",
      "1875/1875 [==============================] - 2s 1ms/step - loss: 0.1042\n",
      "Epoch 51/100\n",
      "1875/1875 [==============================] - 2s 1ms/step - loss: 0.0992\n",
      "Epoch 52/100\n",
      "1875/1875 [==============================] - 2s 1ms/step - loss: 0.1011\n",
      "Epoch 53/100\n",
      "1875/1875 [==============================] - 2s 1ms/step - loss: 0.1004\n",
      "Epoch 54/100\n",
      "1875/1875 [==============================] - 2s 1ms/step - loss: 0.0992\n",
      "Epoch 55/100\n",
      "1875/1875 [==============================] - 2s 1ms/step - loss: 0.0970\n",
      "Epoch 56/100\n",
      "1875/1875 [==============================] - 2s 1ms/step - loss: 0.1003\n",
      "Epoch 57/100\n",
      "1875/1875 [==============================] - 2s 1ms/step - loss: 0.0988\n",
      "Epoch 58/100\n",
      "1875/1875 [==============================] - 2s 1ms/step - loss: 0.0963\n",
      "Epoch 59/100\n",
      "1875/1875 [==============================] - 2s 1ms/step - loss: 0.0972\n",
      "Epoch 60/100\n",
      "1875/1875 [==============================] - 2s 1ms/step - loss: 0.0958\n",
      "Epoch 61/100\n",
      "1875/1875 [==============================] - 2s 1ms/step - loss: 0.0950\n",
      "Epoch 62/100\n",
      "1875/1875 [==============================] - 2s 1ms/step - loss: 0.0962\n",
      "Epoch 63/100\n",
      "1875/1875 [==============================] - 3s 1ms/step - loss: 0.0964\n",
      "Epoch 64/100\n",
      "1875/1875 [==============================] - 3s 1ms/step - loss: 0.0950\n",
      "Epoch 65/100\n",
      "1875/1875 [==============================] - 2s 1ms/step - loss: 0.0906\n",
      "Epoch 66/100\n",
      "1875/1875 [==============================] - 2s 1ms/step - loss: 0.0925\n",
      "Epoch 67/100\n",
      "1875/1875 [==============================] - 2s 1ms/step - loss: 0.0913\n",
      "Epoch 68/100\n",
      "1875/1875 [==============================] - 2s 1ms/step - loss: 0.0952\n",
      "Epoch 69/100\n",
      "1875/1875 [==============================] - 2s 1ms/step - loss: 0.0932\n",
      "Epoch 70/100\n",
      "1875/1875 [==============================] - 2s 1ms/step - loss: 0.0944\n",
      "Epoch 71/100\n",
      "1875/1875 [==============================] - 2s 1ms/step - loss: 0.0856\n",
      "Epoch 72/100\n",
      "1875/1875 [==============================] - 2s 1ms/step - loss: 0.0942\n",
      "Epoch 73/100\n",
      "1875/1875 [==============================] - 2s 1ms/step - loss: 0.0919\n",
      "Epoch 74/100\n",
      "1875/1875 [==============================] - 2s 1ms/step - loss: 0.0852\n",
      "Epoch 75/100\n",
      "1875/1875 [==============================] - 2s 1ms/step - loss: 0.0896\n",
      "Epoch 76/100\n",
      "1875/1875 [==============================] - 2s 1ms/step - loss: 0.0872\n",
      "Epoch 77/100\n",
      "1875/1875 [==============================] - 2s 1ms/step - loss: 0.0867\n",
      "Epoch 78/100\n",
      "1875/1875 [==============================] - 2s 1ms/step - loss: 0.0862\n",
      "Epoch 79/100\n",
      "1875/1875 [==============================] - 2s 1ms/step - loss: 0.0887\n",
      "Epoch 80/100\n",
      "1875/1875 [==============================] - 2s 1ms/step - loss: 0.0856\n",
      "Epoch 81/100\n",
      "1875/1875 [==============================] - 2s 1ms/step - loss: 0.0855\n",
      "Epoch 82/100\n",
      "1875/1875 [==============================] - 2s 1ms/step - loss: 0.0902\n",
      "Epoch 83/100\n",
      "1875/1875 [==============================] - 2s 1ms/step - loss: 0.0855\n",
      "Epoch 84/100\n",
      "1875/1875 [==============================] - 2s 1ms/step - loss: 0.0956\n",
      "Epoch 85/100\n",
      "1875/1875 [==============================] - 2s 1ms/step - loss: 0.0776\n",
      "Epoch 86/100\n",
      "1875/1875 [==============================] - 2s 1ms/step - loss: 0.0864\n",
      "Epoch 87/100\n",
      "1875/1875 [==============================] - 3s 1ms/step - loss: 0.0821\n",
      "Epoch 88/100\n",
      "1875/1875 [==============================] - 3s 1ms/step - loss: 0.0812\n",
      "Epoch 89/100\n",
      "1875/1875 [==============================] - 2s 1ms/step - loss: 0.0986\n",
      "Epoch 90/100\n",
      "1875/1875 [==============================] - 2s 1ms/step - loss: 0.0786\n",
      "Epoch 91/100\n",
      "1875/1875 [==============================] - 2s 1ms/step - loss: 0.0814\n",
      "Epoch 92/100\n",
      "1875/1875 [==============================] - 2s 1ms/step - loss: 0.0807\n",
      "Epoch 93/100\n",
      "1875/1875 [==============================] - 2s 1ms/step - loss: 0.0873\n",
      "Epoch 94/100\n",
      "1875/1875 [==============================] - 2s 1ms/step - loss: 0.0808\n",
      "Epoch 95/100\n",
      "1875/1875 [==============================] - 2s 1ms/step - loss: 0.0828\n",
      "Epoch 96/100\n",
      "1875/1875 [==============================] - 2s 1ms/step - loss: 0.0799\n",
      "Epoch 97/100\n",
      "1875/1875 [==============================] - 2s 1ms/step - loss: 0.0762\n",
      "Epoch 98/100\n",
      "1875/1875 [==============================] - 2s 1ms/step - loss: 0.0795\n",
      "Epoch 99/100\n",
      "1875/1875 [==============================] - 2s 1ms/step - loss: 0.0803\n",
      "Epoch 100/100\n",
      "1875/1875 [==============================] - 2s 1ms/step - loss: 0.0813\n"
     ]
    }
   ],
   "source": [
    "history = model.fit(\n",
    "    X_train,y_train,epochs = 100\n",
    ")"
   ]
  },
  {
   "cell_type": "markdown",
   "metadata": {},
   "source": [
    "# Saving Model"
   ]
  },
  {
   "cell_type": "code",
   "execution_count": 63,
   "metadata": {},
   "outputs": [
    {
     "name": "stdout",
     "output_type": "stream",
     "text": [
      "INFO:tensorflow:Assets written to: model\\assets\n"
     ]
    },
    {
     "name": "stderr",
     "output_type": "stream",
     "text": [
      "INFO:tensorflow:Assets written to: model\\assets\n"
     ]
    }
   ],
   "source": [
    "model.save(\"model\")"
   ]
  },
  {
   "cell_type": "markdown",
   "metadata": {},
   "source": [
    "# Predicting on X_test"
   ]
  },
  {
   "cell_type": "code",
   "execution_count": 77,
   "metadata": {},
   "outputs": [
    {
     "name": "stdout",
     "output_type": "stream",
     "text": [
      "313/313 [==============================] - 0s 855us/step\n"
     ]
    }
   ],
   "source": [
    "predicted = model.predict(X_test)"
   ]
  },
  {
   "cell_type": "markdown",
   "metadata": {},
   "source": [
    "# Finding Highest Probabilty of digit"
   ]
  },
  {
   "cell_type": "code",
   "execution_count": 78,
   "metadata": {},
   "outputs": [],
   "source": [
    "predicted = [max(range(len(p)), key=lambda i: p[i]) for p in predicted]\n",
    "predicted = np.array(predicted)"
   ]
  },
  {
   "cell_type": "markdown",
   "metadata": {},
   "source": [
    "# Accuracy"
   ]
  },
  {
   "cell_type": "code",
   "execution_count": 92,
   "metadata": {},
   "outputs": [
    {
     "name": "stdout",
     "output_type": "stream",
     "text": [
      "Accuracy =  94 %\n"
     ]
    }
   ],
   "source": [
    "accuracy_metric = tf.keras.metrics.Accuracy()\n",
    "accuracy_metric.update_state(y_true=y_test, y_pred=predicted)\n",
    "accuracy_value = accuracy_metric.result().numpy()\n",
    "print(\"Accuracy = \", round(accuracy_value*100) ,\"%\")"
   ]
  }
 ],
 "metadata": {
  "kernelspec": {
   "display_name": "Python 3",
   "language": "python",
   "name": "python3"
  },
  "language_info": {
   "codemirror_mode": {
    "name": "ipython",
    "version": 3
   },
   "file_extension": ".py",
   "mimetype": "text/x-python",
   "name": "python",
   "nbconvert_exporter": "python",
   "pygments_lexer": "ipython3",
   "version": "3.10.14"
  }
 },
 "nbformat": 4,
 "nbformat_minor": 2
}

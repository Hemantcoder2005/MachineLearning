{
 "cells": [
  {
   "cell_type": "code",
   "execution_count": 1,
   "metadata": {},
   "outputs": [],
   "source": [
    "import cv2\n",
    "import numpy as np"
   ]
  },
  {
   "cell_type": "markdown",
   "metadata": {},
   "source": [
    "# Defining Images Directory"
   ]
  },
  {
   "cell_type": "code",
   "execution_count": 2,
   "metadata": {},
   "outputs": [],
   "source": [
    "# Images\n",
    "BirdImageDir=\"imgs\\\\bird.png\""
   ]
  },
  {
   "cell_type": "markdown",
   "metadata": {},
   "source": [
    "# Reading Bird Image from cv2"
   ]
  },
  {
   "cell_type": "code",
   "execution_count": 3,
   "metadata": {},
   "outputs": [],
   "source": [
    "# Reading Image\n",
    "BirdImage=cv2.imread(BirdImageDir)"
   ]
  },
  {
   "cell_type": "markdown",
   "metadata": {},
   "source": [
    "# Creating Function to show Image"
   ]
  },
  {
   "cell_type": "code",
   "execution_count": 4,
   "metadata": {},
   "outputs": [],
   "source": [
    "# Function to show Image\n",
    "def showImg(read,title=\"Output\"):\n",
    "    cv2.imshow(title,read)\n",
    "    cv2.waitKey(0)"
   ]
  },
  {
   "cell_type": "markdown",
   "metadata": {},
   "source": [
    "# Creating Kernel"
   ]
  },
  {
   "cell_type": "code",
   "execution_count": 5,
   "metadata": {},
   "outputs": [],
   "source": [
    "# Filtering By 2D kernel\n",
    "kernel_3x3=np.ones((3,3),dtype=np.float32)/9\n",
    "kernel_5x5=np.ones((5,5),dtype=np.float32)/25"
   ]
  },
  {
   "cell_type": "markdown",
   "metadata": {},
   "source": [
    "# Inputting kernel to filter2D"
   ]
  },
  {
   "cell_type": "code",
   "execution_count": 6,
   "metadata": {},
   "outputs": [],
   "source": [
    "# Filtering by 2D method\n",
    "output_kerenl3x3_Bird=cv2.filter2D(BirdImage,-1,kernel_3x3)\n",
    "output_kerenl5x5_Bird=cv2.filter2D(BirdImage,-1,kernel_5x5)\n",
    "showImg(output_kerenl3x3_Bird,\"BirdImage applying 3x3 Kernel!\")\n",
    "showImg(output_kerenl5x5_Bird,\"BirdImage applying 5x5 Kernel!\")"
   ]
  },
  {
   "cell_type": "markdown",
   "metadata": {},
   "source": [
    "# Applying Gaussian Blurring"
   ]
  },
  {
   "cell_type": "code",
   "execution_count": 7,
   "metadata": {},
   "outputs": [],
   "source": [
    "\n",
    "# Gaussian Blurring\n",
    "\n",
    "# Way1\n",
    "Gaussian_Kernel_size=3\n",
    "sigma=2 # It is a standard deviation\n",
    "Gaussian_Kernel=cv2.getGaussianKernel(Gaussian_Kernel_size,sigma) #Getting Gaussian Kernel\n",
    "BirdGaussianFilter=cv2.filter2D(BirdImage,-1,Gaussian_Kernel) # Appling in Filter2D\n",
    "showImg(BirdGaussianFilter,\"Bird Gaussian Blur\")\n",
    "\n",
    "# Way2\n",
    "BirdGaussianFilter=cv2.GaussianBlur(BirdImage,(3,3),2)\n",
    "showImg(BirdGaussianFilter,\"Bird Gaussian Blur\")"
   ]
  },
  {
   "cell_type": "markdown",
   "metadata": {},
   "source": [
    "# Applying Median Blurring"
   ]
  },
  {
   "cell_type": "code",
   "execution_count": 8,
   "metadata": {},
   "outputs": [],
   "source": [
    "# MedianBlurring (for noise reduction)\n",
    "BirdMedianBlur=cv2.medianBlur(BirdImage,3)\n",
    "showImg(BirdMedianBlur,\"Median Blur\")"
   ]
  },
  {
   "cell_type": "markdown",
   "metadata": {},
   "source": [
    "# Edge Detection"
   ]
  },
  {
   "cell_type": "markdown",
   "metadata": {},
   "source": [
    "1. Sobel Edge Detection"
   ]
  },
  {
   "cell_type": "code",
   "execution_count": 9,
   "metadata": {},
   "outputs": [],
   "source": [
    "GrayImage=cv2.cvtColor(BirdImage,cv2.COLOR_BGR2GRAY)\n",
    "BlurImage=cv2.GaussianBlur(GrayImage,(3,3),sigmaX=0,sigmaY=0)\n",
    "\n",
    "# X sobel\n",
    "X_Sobel=cv2.Sobel(BlurImage,cv2.CV_64F,dx=1,dy=0)\n",
    "\n",
    "# Y Sobel\n",
    "Y_Sobel=cv2.Sobel(BlurImage,cv2.CV_64F,dx=0,dy=1)\n",
    "\n",
    "# X and Y Sobel both\n",
    "X_Y_Sobel=cv2.Sobel(BlurImage,cv2.CV_64F,dx=1,dy=1)\n",
    "\n",
    "# Show Image\n",
    "showImg(X_Sobel,\"XSobel\")\n",
    "showImg(Y_Sobel,\"Y Sobel\")\n",
    "showImg(X_Y_Sobel,\"X and Y Sobel\")"
   ]
  },
  {
   "cell_type": "markdown",
   "metadata": {},
   "source": [
    "2. Canny Edge Detection"
   ]
  },
  {
   "cell_type": "code",
   "execution_count": 11,
   "metadata": {},
   "outputs": [],
   "source": [
    "GrayImage=cv2.cvtColor(BirdImage,cv2.COLOR_BGR2GRAY)\n",
    "BlurImage=cv2.GaussianBlur(GrayImage,(3,3),sigmaX=0,sigmaY=0)\n",
    "\n",
    "canny=cv2.Canny(BlurImage,100,200)\n",
    "showImg(canny,\"CannyImg\")"
   ]
  },
  {
   "cell_type": "markdown",
   "metadata": {},
   "source": [
    "# Thresholding"
   ]
  },
  {
   "cell_type": "code",
   "execution_count": 13,
   "metadata": {},
   "outputs": [],
   "source": [
    "et, thresh1 = cv2.threshold(BirdImage, 120, 255, cv2.THRESH_BINARY)\n",
    "ret, thresh2 = cv2.threshold(BirdImage, 120, 255, cv2.THRESH_BINARY_INV)\n",
    "ret, thresh3 = cv2.threshold(BirdImage, 120, 255, cv2.THRESH_TRUNC)\n",
    "ret, thresh4 = cv2.threshold(BirdImage, 120, 255, cv2.THRESH_TOZERO)\n",
    "ret, thresh5 = cv2.threshold(BirdImage, 120, 255, cv2.THRESH_TOZERO_INV)\n",
    "\n",
    "showImg(thresh1)\n",
    "showImg(thresh2)\n",
    "showImg(thresh3)\n",
    "showImg(thresh4)\n",
    "showImg(thresh5)"
   ]
  },
  {
   "cell_type": "code",
   "execution_count": null,
   "metadata": {},
   "outputs": [],
   "source": []
  }
 ],
 "metadata": {
  "kernelspec": {
   "display_name": "base",
   "language": "python",
   "name": "python3"
  },
  "language_info": {
   "codemirror_mode": {
    "name": "ipython",
    "version": 3
   },
   "file_extension": ".py",
   "mimetype": "text/x-python",
   "name": "python",
   "nbconvert_exporter": "python",
   "pygments_lexer": "ipython3",
   "version": "3.11.5"
  }
 },
 "nbformat": 4,
 "nbformat_minor": 2
}
